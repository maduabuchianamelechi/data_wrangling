{
 "cells": [
  {
   "cell_type": "markdown",
   "metadata": {},
   "source": [
    "## Reporting: wragle_report\n",
    "* Create a **300-600 word written report** called \"wrangle_report.pdf\" or \"wrangle_report.html\" that briefly describes your wrangling efforts. This is to be framed as an internal document."
   ]
  },
  {
   "cell_type": "markdown",
   "metadata": {},
   "source": [
    "Maduabuchi Anamelechi\n",
    "\n",
    "Data Gathering:\n",
    "    During data gathering i was able to read in the file made available. Nevertheless i had a little road block while trying to reading the the `tsv` file using the request library. i was able to fix it after research the error code.\n",
    "Also i tried to authenticate using the twitter `API v2` which didn't work, then i had to use `V1 API` authentication. The V2 authentication didnt work because of the tweepy verson installed on the VM.\n",
    "\n",
    "After fetching the data using the twitter API, i usd the code below to extract the columns of interest form the api response object."
   ]
  },
  {
   "cell_type": "code",
   "execution_count": null,
   "metadata": {},
   "outputs": [],
   "source": [
    "\n",
    "tweet_json = []\n",
    "tweet_id = []\n",
    "tweet_retweet = []\n",
    "tweet_likes = []\n",
    "for t in tweet:\n",
    "    tweet_json.append(t._json)\n",
    "    tweet_id.append(t.id)\n",
    "    tweet_retweet.append(t.retweet_count)\n",
    "    tweet_likes.append(t.favorite_count)"
   ]
  },
  {
   "cell_type": "markdown",
   "metadata": {},
   "source": [
    "After extracting the required columns, i used the code below to join those columns into a dataframe."
   ]
  },
  {
   "cell_type": "code",
   "execution_count": null,
   "metadata": {},
   "outputs": [],
   "source": [
    "tweet_info = pd.DataFrame(\n",
    "                        {'tweet_id': tweet_id,\n",
    "                         'number_of_likes': tweet_likes,\n",
    "                         'number_of_retweets': tweet_retweet\n",
    "                        })\n",
    "print(tweet_info.shape)\n",
    "tweet_info.head()"
   ]
  },
  {
   "cell_type": "markdown",
   "metadata": {},
   "source": [
    "Assessing Data:\n",
    "    I used both visual and programmatic methods to assess my dataset. majority of the problems i identified in the dataset was revealed through the programmatic assessing of the dataset (Using commands like `.describe`, `.sample` and `.info`), and in most cases a deep dive was done using visual assessment to further establish and confirm the problem.\n",
    "\n",
    "Data Cleaning:\n",
    "    I was able to fix the issues identified while assessing the dataset. That didn't come easily handy but i flexed my muscle on the skills acquired over time to fix the earlier identified issues."
   ]
  },
  {
   "cell_type": "markdown",
   "metadata": {},
   "source": [
    "I'm sincerely confident that after this project, my data wrangling skills have been horned up and improved..."
   ]
  },
  {
   "cell_type": "code",
   "execution_count": 2,
   "metadata": {},
   "outputs": [
    {
     "data": {
      "text/plain": [
       "0"
      ]
     },
     "execution_count": 2,
     "metadata": {},
     "output_type": "execute_result"
    }
   ],
   "source": [
    "from subprocess import call\n",
    "call(['python', '-m', 'nbconvert', 'wrangle_report.ipynb'])"
   ]
  },
  {
   "cell_type": "code",
   "execution_count": null,
   "metadata": {},
   "outputs": [],
   "source": []
  }
 ],
 "metadata": {
  "kernelspec": {
   "display_name": "Python 3 (ipykernel)",
   "language": "python",
   "name": "python3"
  },
  "language_info": {
   "codemirror_mode": {
    "name": "ipython",
    "version": 3
   },
   "file_extension": ".py",
   "mimetype": "text/x-python",
   "name": "python",
   "nbconvert_exporter": "python",
   "pygments_lexer": "ipython3",
   "version": "3.9.12"
  }
 },
 "nbformat": 4,
 "nbformat_minor": 2
}
